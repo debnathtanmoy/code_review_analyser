{
 "cells": [
  {
   "cell_type": "markdown",
   "metadata": {},
   "source": [
    "# Code Review Analyser"
   ]
  },
  {
   "cell_type": "markdown",
   "metadata": {},
   "source": [
    "## Importing the libraries"
   ]
  },
  {
   "cell_type": "code",
   "execution_count": 53,
   "metadata": {},
   "outputs": [],
   "source": [
    "import numpy as np\n",
    "import matplotlib.pyplot as plt\n",
    "import pandas as pd\n",
    "from collections import Counter\n",
    "from nltk.tokenize import word_tokenize\n",
    "from nltk.util import ngrams \n",
    "from collections import Counter\n",
    "from nltk.tokenize import word_tokenize\n",
    "from wordcloud import WordCloud,ImageColorGenerator\n",
    "import matplotlib.pyplot as plt\n",
    "from sklearn.feature_extraction.text import TfidfVectorizer\n",
    "from sklearn.feature_extraction.text import CountVectorizer\n",
    "import re\n",
    "import nltk\n",
    "import string\n",
    "from nltk.corpus import stopwords\n",
    "stop = stopwords.words('english')"
   ]
  },
  {
   "cell_type": "markdown",
   "metadata": {},
   "source": [
    "## Converting the downloaded file into a correct format"
   ]
  },
  {
   "cell_type": "code",
   "execution_count": 54,
   "metadata": {},
   "outputs": [],
   "source": [
    "#The file containing review comments will be in excel format (.xlsx). We have to convert the excel file to a CSV file.\n",
    "import pandas as pd \n",
    "\n",
    "df = pd.DataFrame(pd.read_excel(\"C:\\datasets\\CRR_Report_excel.xlsx\")) \n",
    "  \n",
    "df.to_csv(\"C:\\datasets\\CRR_Report_excel.csv\")"
   ]
  },
  {
   "cell_type": "code",
   "execution_count": 55,
   "metadata": {},
   "outputs": [],
   "source": [
    "#Further convert the CSV file to a TSV(Tab-separated values) file for better results.\n",
    "import pandas as pd  \n",
    "tsv_filepath = 'C:\\\\datasets\\\\comments.tsv'\n",
    "csv_read = pd.read_csv(\"C:\\datasets\\CRR_Report_excel.csv\")\n",
    "with open(tsv_filepath,'w',encoding='utf-8') as write_tsv:\n",
    "    write_tsv.write(csv_read.to_csv(sep='\\t', index=False))"
   ]
  },
  {
   "cell_type": "markdown",
   "metadata": {},
   "source": [
    "## Importing the dataset"
   ]
  },
  {
   "cell_type": "code",
   "execution_count": 56,
   "metadata": {},
   "outputs": [],
   "source": [
    "df = pd.read_csv(\"C:\\datasets\\comment.tsv\",delimiter = '\\t', quoting = 3) #Importing the dataset"
   ]
  },
  {
   "cell_type": "code",
   "execution_count": 57,
   "metadata": {},
   "outputs": [
    {
     "name": "stdout",
     "output_type": "stream",
     "text": [
      "<class 'pandas.core.frame.DataFrame'>\n",
      "RangeIndex: 2298 entries, 0 to 2297\n",
      "Data columns (total 9 columns):\n",
      "ID                     726 non-null object\n",
      "Title                  153 non-null object\n",
      "Status                 152 non-null object\n",
      "Requestor              152 non-null object\n",
      "Associated WorkItem    0 non-null float64\n",
      "CommitId               152 non-null object\n",
      "Reviewers              870 non-null object\n",
      "ReviewDate             1711 non-null object\n",
      "Comments               1699 non-null object\n",
      "dtypes: float64(1), object(8)\n",
      "memory usage: 161.7+ KB\n"
     ]
    }
   ],
   "source": [
    "df.info() #concise summary of the dataframe"
   ]
  },
  {
   "cell_type": "markdown",
   "metadata": {},
   "source": [
    "## Removing duplicates"
   ]
  },
  {
   "cell_type": "code",
   "execution_count": 58,
   "metadata": {},
   "outputs": [
    {
     "data": {
      "text/plain": [
       "count                       1699\n",
       "unique                       991\n",
       "top       No Additional Comments\n",
       "freq                         671\n",
       "Name: Comments, dtype: object"
      ]
     },
     "execution_count": 58,
     "metadata": {},
     "output_type": "execute_result"
    }
   ],
   "source": [
    "df[\"Comments\"].describe() #checking for duplicates"
   ]
  },
  {
   "cell_type": "code",
   "execution_count": 59,
   "metadata": {},
   "outputs": [],
   "source": [
    "df.drop_duplicates(subset =\"Comments\", \n",
    "                     keep = False, inplace = True) #removing duplicates"
   ]
  },
  {
   "cell_type": "code",
   "execution_count": 60,
   "metadata": {},
   "outputs": [
    {
     "data": {
      "text/plain": [
       "count                                                   964\n",
       "unique                                                  964\n",
       "top       Please convert these comments as a standard do...\n",
       "freq                                                      1\n",
       "Name: Comments, dtype: object"
      ]
     },
     "execution_count": 60,
     "metadata": {},
     "output_type": "execute_result"
    }
   ],
   "source": [
    "df[\"Comments\"].describe() #No more duplicates"
   ]
  },
  {
   "cell_type": "markdown",
   "metadata": {},
   "source": [
    "## Cleaning the Comments column"
   ]
  },
  {
   "cell_type": "code",
   "execution_count": 61,
   "metadata": {},
   "outputs": [],
   "source": [
    "from nltk.corpus import stopwords\n",
    "import string\n",
    "stop = stopwords.words('english')\n",
    "df[\"Comments\"] = df[\"Comments\"].apply(lambda x:''.join([i for i in x \n",
    "                                                  if i not in string.punctuation])) #removing punctuation\n",
    "df[\"Comments\"] = df[\"Comments\"] .str.lower() #converting evertyhing to lower\n",
    "df[\"Comments\"] = df[\"Comments\"].str.replace('\\d+', '') #removing numbers"
   ]
  },
  {
   "cell_type": "code",
   "execution_count": 62,
   "metadata": {},
   "outputs": [],
   "source": [
    "#removing stopwords\n",
    "df[\"Comments_without_stopwords\"] = df[\"Comments\"].apply(lambda x: ' '.join([word for word in x.split() if word not in (stop)])) "
   ]
  },
  {
   "cell_type": "code",
   "execution_count": 63,
   "metadata": {},
   "outputs": [
    {
     "data": {
      "text/plain": [
       "3                          remove extra slash added end\n",
       "5     combine activitypagequeryparams setuppagequery...\n",
       "6     similar previous comment activitypagequerypara...\n",
       "8                                  named import missing\n",
       "9     still see gridcolumnsortproperties missing nam...\n",
       "10                            combine import statements\n",
       "11                combine ipcore import statements line\n",
       "12                            combine import statements\n",
       "13                         made single import statement\n",
       "14                                       okay keep asis\n",
       "15                                       index required\n",
       "17       still see index appended end import statements\n",
       "21                     import queue ipcore please check\n",
       "22    export statement utility queue already part co...\n",
       "26      okay please mention outcome rather saying fixed\n",
       "30           think type make enum u limited strings use\n",
       "31                  check circulardependency count also\n",
       "33                                                 need\n",
       "34    rename setsuccesserrormessage success msg erro...\n",
       "35      merge latest integration attach new screenshots\n",
       "36                                          rename file\n",
       "37              rename apiresponsetype move core module\n",
       "38                  rename apiresponse move core module\n",
       "39                                                     \n",
       "40    ok think good use separate div dls infoicon cs...\n",
       "41                     assign enum variable ts file use\n",
       "43                       could assert type message well\n",
       "44                            also assert css class dom\n",
       "45                        code please resolve conflicts\n",
       "46         default assignments assign empty object type\n",
       "48              combine ippshared import statement line\n",
       "53                please add copyright statementcomment\n",
       "54    please update description work item revert his...\n",
       "55     please add respective test case expect statement\n",
       "65         review done great work thanks quick reaction\n",
       "77    create mockprovider assign returnvalue beforee...\n",
       "78                log something subscription could done\n",
       "79    would use counthttpsrxjsdevfirebaseappcomapiop...\n",
       "80    would perform intermediate checks calls check ...\n",
       "81                                        file excluded\n",
       "Name: Comments_without_stopwords, dtype: object"
      ]
     },
     "execution_count": 63,
     "metadata": {},
     "output_type": "execute_result"
    }
   ],
   "source": [
    "df[\"Comments_without_stopwords\"].head(40) #corpus without any stopwords"
   ]
  },
  {
   "cell_type": "code",
   "execution_count": 64,
   "metadata": {},
   "outputs": [
    {
     "data": {
      "text/plain": [
       "'remove extra slash added end'"
      ]
     },
     "execution_count": 64,
     "metadata": {},
     "output_type": "execute_result"
    }
   ],
   "source": [
    "df['Comments_without_stopwords'].iloc[0] #checking a row without any stopwords"
   ]
  },
  {
   "cell_type": "code",
   "execution_count": 65,
   "metadata": {},
   "outputs": [
    {
     "data": {
      "text/html": [
       "<div>\n",
       "<style scoped>\n",
       "    .dataframe tbody tr th:only-of-type {\n",
       "        vertical-align: middle;\n",
       "    }\n",
       "\n",
       "    .dataframe tbody tr th {\n",
       "        vertical-align: top;\n",
       "    }\n",
       "\n",
       "    .dataframe thead th {\n",
       "        text-align: right;\n",
       "    }\n",
       "</style>\n",
       "<table border=\"1\" class=\"dataframe\">\n",
       "  <thead>\n",
       "    <tr style=\"text-align: right;\">\n",
       "      <th></th>\n",
       "      <th>ID</th>\n",
       "      <th>Title</th>\n",
       "      <th>Status</th>\n",
       "      <th>Requestor</th>\n",
       "      <th>Associated WorkItem</th>\n",
       "      <th>CommitId</th>\n",
       "      <th>Reviewers</th>\n",
       "      <th>ReviewDate</th>\n",
       "      <th>Comments</th>\n",
       "      <th>Comments_without_stopwords</th>\n",
       "    </tr>\n",
       "  </thead>\n",
       "  <tbody>\n",
       "    <tr>\n",
       "      <td>3</td>\n",
       "      <td>NaN</td>\n",
       "      <td>NaN</td>\n",
       "      <td>NaN</td>\n",
       "      <td>NaN</td>\n",
       "      <td>NaN</td>\n",
       "      <td>NaN</td>\n",
       "      <td>Dayapule, Chetan</td>\n",
       "      <td>6/1/2020 8:06</td>\n",
       "      <td>remove extra slash being added at the end</td>\n",
       "      <td>remove extra slash added end</td>\n",
       "    </tr>\n",
       "    <tr>\n",
       "      <td>5</td>\n",
       "      <td>NaN</td>\n",
       "      <td>NaN</td>\n",
       "      <td>NaN</td>\n",
       "      <td>NaN</td>\n",
       "      <td>NaN</td>\n",
       "      <td>NaN</td>\n",
       "      <td>NaN</td>\n",
       "      <td>6/1/2020 11:44</td>\n",
       "      <td>combine both activitypagequeryparams and setup...</td>\n",
       "      <td>combine activitypagequeryparams setuppagequery...</td>\n",
       "    </tr>\n",
       "    <tr>\n",
       "      <td>6</td>\n",
       "      <td>NaN</td>\n",
       "      <td>NaN</td>\n",
       "      <td>NaN</td>\n",
       "      <td>NaN</td>\n",
       "      <td>NaN</td>\n",
       "      <td>NaN</td>\n",
       "      <td>NaN</td>\n",
       "      <td>6/1/2020 11:49</td>\n",
       "      <td>similar to previous comment activitypagequeryp...</td>\n",
       "      <td>similar previous comment activitypagequerypara...</td>\n",
       "    </tr>\n",
       "    <tr>\n",
       "      <td>8</td>\n",
       "      <td>NaN</td>\n",
       "      <td>NaN</td>\n",
       "      <td>NaN</td>\n",
       "      <td>NaN</td>\n",
       "      <td>NaN</td>\n",
       "      <td>NaN</td>\n",
       "      <td>NaN</td>\n",
       "      <td>6/1/2020 12:50</td>\n",
       "      <td>named import is missing</td>\n",
       "      <td>named import missing</td>\n",
       "    </tr>\n",
       "    <tr>\n",
       "      <td>9</td>\n",
       "      <td>NaN</td>\n",
       "      <td>NaN</td>\n",
       "      <td>NaN</td>\n",
       "      <td>NaN</td>\n",
       "      <td>NaN</td>\n",
       "      <td>NaN</td>\n",
       "      <td>NaN</td>\n",
       "      <td>6/5/2020 17:41</td>\n",
       "      <td>i can still see that  gridcolumnsortproperties...</td>\n",
       "      <td>still see gridcolumnsortproperties missing nam...</td>\n",
       "    </tr>\n",
       "  </tbody>\n",
       "</table>\n",
       "</div>"
      ],
      "text/plain": [
       "    ID Title Status Requestor  Associated WorkItem CommitId         Reviewers  \\\n",
       "3  NaN   NaN    NaN       NaN                  NaN      NaN  Dayapule, Chetan   \n",
       "5  NaN   NaN    NaN       NaN                  NaN      NaN               NaN   \n",
       "6  NaN   NaN    NaN       NaN                  NaN      NaN               NaN   \n",
       "8  NaN   NaN    NaN       NaN                  NaN      NaN               NaN   \n",
       "9  NaN   NaN    NaN       NaN                  NaN      NaN               NaN   \n",
       "\n",
       "       ReviewDate                                           Comments  \\\n",
       "3   6/1/2020 8:06          remove extra slash being added at the end   \n",
       "5  6/1/2020 11:44  combine both activitypagequeryparams and setup...   \n",
       "6  6/1/2020 11:49  similar to previous comment activitypagequeryp...   \n",
       "8  6/1/2020 12:50                            named import is missing   \n",
       "9  6/5/2020 17:41  i can still see that  gridcolumnsortproperties...   \n",
       "\n",
       "                          Comments_without_stopwords  \n",
       "3                       remove extra slash added end  \n",
       "5  combine activitypagequeryparams setuppagequery...  \n",
       "6  similar previous comment activitypagequerypara...  \n",
       "8                               named import missing  \n",
       "9  still see gridcolumnsortproperties missing nam...  "
      ]
     },
     "execution_count": 65,
     "metadata": {},
     "output_type": "execute_result"
    }
   ],
   "source": [
    "df.head()"
   ]
  },
  {
   "cell_type": "markdown",
   "metadata": {},
   "source": [
    "## Getting the most occuring trigrams"
   ]
  },
  {
   "cell_type": "code",
   "execution_count": 66,
   "metadata": {},
   "outputs": [],
   "source": [
    "# Getting trigrams \n",
    "arr = df['Comments_without_stopwords'].tolist()\n",
    "vectorizer = CountVectorizer(ngram_range = (3,3)) \n",
    "X1 = vectorizer.fit_transform(arr)  \n",
    "features = (vectorizer.get_feature_names()) \n",
    "# print(\"\\n\\nFeatures : \\n\", features)\n",
    "# print(\"\\n\\nX1 : \\n\", X1.toarray()) "
   ]
  },
  {
   "cell_type": "code",
   "execution_count": 67,
   "metadata": {},
   "outputs": [],
   "source": [
    "# Applying TFIDF \n",
    "vectorizer = TfidfVectorizer(ngram_range = (3,3)) \n",
    "X2 = vectorizer.fit_transform(arr) \n",
    "scores = (X2.toarray()) \n",
    "# print(\"\\n\\nScores : \\n\", scores) "
   ]
  },
  {
   "cell_type": "code",
   "execution_count": 68,
   "metadata": {},
   "outputs": [
    {
     "name": "stdout",
     "output_type": "stream",
     "text": [
      "\n",
      "\n",
      "Words head : \n",
      "                                     Comment1      rank\n",
      "2596                        move core module  2.980688\n",
      "3534                     return type missing  2.707107\n",
      "3166                            prime ng css  2.287486\n",
      "274                     attach code coverage  2.179640\n",
      "9                    access modifier missing  2.000000\n",
      "727                combine import statements  2.000000\n",
      "2164                 keep alphabetical order  2.000000\n",
      "3100             please update documentation  2.000000\n",
      "1282                          dont use prime  1.999825\n",
      "4440                            use prime ng  1.999825\n",
      "72                             add test case  1.688068\n",
      "2589                    move angular imports  1.686268\n",
      "3045                please add documentation  1.686268\n",
      "3555                       review done great  1.646402\n",
      "228               arrange alphabetical order  1.583346\n",
      "3409                        rename file well  1.554990\n",
      "4375                       use absolute path  1.478370\n",
      "919       copyright noticedisclaimer missing  1.431535\n",
      "3213                 provide access modifier  1.414214\n",
      "3078                   please provide access  1.414214\n",
      "2590                     move check separate  1.372537\n",
      "3043                    please add copyright  1.372537\n",
      "3728                       set default value  1.359447\n",
      "4433                         use named paths  1.335897\n",
      "1704                    function return type  1.327855\n",
      "48                             add const end  1.285912\n",
      "4059                        test case expect  1.272361\n",
      "1623                    fix following linter  1.241258\n",
      "642                     code coverage report  1.221672\n",
      "40                       add access modifier  1.164638\n",
      "4076                      test cases missing  1.160509\n",
      "1256                         done great work  1.157194\n",
      "1269                        dont change year  1.154701\n",
      "4727                      year existing file  1.154701\n",
      "534                     change year existing  1.154701\n",
      "4662                    word data dictionary  1.112933\n",
      "1071                       declare one place  1.112933\n",
      "1855                  hardcoded strings html  1.109980\n",
      "2815                        nothing else add  1.109980\n",
      "1829                      guess please check  1.075031\n",
      "2455      messages locatableconstantsts file  1.069817\n",
      "880   constant messages locatableconstantsts  1.069817\n",
      "2595                  move constant messages  1.069817\n",
      "3697               separate private function  1.069451\n",
      "2623                   move separate private  1.069451\n",
      "4444                    use relative imports  1.045715\n",
      "56                      add expect statement  1.040255\n",
      "4403                    use directly instead  1.033360\n",
      "4351                  update new screenshots  1.033360\n",
      "4441                      use private method  1.025521\n"
     ]
    }
   ],
   "source": [
    "# Getting most occuring trigrams from the set of all trigrams.\n",
    "sums = X2.sum(axis = 0) \n",
    "data1 = [] \n",
    "for col, term in enumerate(features): \n",
    "    data1.append( (term, sums[0,col] )) \n",
    "ranking = pd.DataFrame(data1, columns = ['Comment1','rank']) \n",
    "words1 = (ranking.sort_values('rank', ascending = False)) \n",
    "print (\"\\n\\nWords head : \\n\", words1.head(50)) "
   ]
  },
  {
   "cell_type": "code",
   "execution_count": 69,
   "metadata": {},
   "outputs": [
    {
     "data": {
      "image/png": "[encoded data removed]",
      "text/plain": [
       "<Figure size 432x288 with 1 Axes>"
      ]
     },
     "metadata": {
      "needs_background": "light"
     },
     "output_type": "display_data"
    }
   ],
   "source": [
    "#plotting the top ten trigrams\n",
    "trigrams =  words1.head(10)\n",
    "top_ten = trigrams.plot.bar(x='Comment1', y='rank', rot=90, width=0.3)"
   ]
  },
  {
   "cell_type": "markdown",
   "metadata": {},
   "source": [
    "## Getting the most occuring fourgrams"
   ]
  },
  {
   "cell_type": "code",
   "execution_count": 70,
   "metadata": {},
   "outputs": [],
   "source": [
    "# Getting all fourgrams\n",
    "arr = df['Comments_without_stopwords'].tolist()\n",
    "vectorizer = CountVectorizer(ngram_range = (4,4)) \n",
    "X1 = vectorizer.fit_transform(arr)  \n",
    "features = (vectorizer.get_feature_names()) \n",
    "# print(\"\\n\\nFeatures : \\n\", features)\n",
    "# print(\"\\n\\nX1 : \\n\", X1.toarray()) "
   ]
  },
  {
   "cell_type": "code",
   "execution_count": 71,
   "metadata": {},
   "outputs": [],
   "source": [
    "# Applying TFIDF \n",
    "vectorizer = TfidfVectorizer(ngram_range = (4,4)) \n",
    "X2 = vectorizer.fit_transform(arr) \n",
    "scores = (X2.toarray()) \n",
    "# print(\"\\n\\nScores : \\n\", scores) "
   ]
  },
  {
   "cell_type": "code",
   "execution_count": 72,
   "metadata": {},
   "outputs": [
    {
     "name": "stdout",
     "output_type": "stream",
     "text": [
      "\n",
      "\n",
      "Words head : \n",
      "                                                Comment2      rank\n",
      "1088                                  dont use prime ng  2.300311\n",
      "2589                     please provide access modifier  2.000000\n",
      "3724                                   use prime ng css  1.916418\n",
      "2972                             review done great work  1.478370\n",
      "458                           change year existing file  1.414214\n",
      "1075                          dont change year existing  1.414214\n",
      "2200                     move separate private function  1.388763\n",
      "243                         attach code coverage report  1.375907\n",
      "645                          comment use private method  1.335897\n",
      "747         constant messages locatableconstantsts file  1.272946\n",
      "2177        move constant messages locatableconstantsts  1.272946\n",
      "558                          code duplication test case  1.000000\n",
      "563                              code fix build failure  1.000000\n",
      "581                     code please confirm screenshots  1.000000\n",
      "554                            code done initial review  1.000000\n",
      "572                           code look screenshot okay  1.000000\n",
      "576                            code module follow style  1.000000\n",
      "553                              code done first review  1.000000\n",
      "3434                         tested retry alone confirm  1.000000\n",
      "815                       couple inputs outside changes  1.000000\n",
      "640   comment mentioned openconfirmationdialog function  1.000000\n",
      "582                       code please resolve conflicts  1.000000\n",
      "585                          code probably fix finalize  1.000000\n",
      "2186                   move imports respective comments  1.000000\n",
      "531                                 code also able help  1.000000\n",
      "642                          comment remove error block  1.000000\n",
      "3265                    statement removed used function  1.000000\n",
      "3245                       spread array every iteration  1.000000\n",
      "1850                       kindly provide specific name  1.000000\n",
      "745                           const varied later method  1.000000\n",
      "3177                              simply pass id facade  1.000000\n",
      "1834                         key strings made constants  1.000000\n",
      "833                    create improvement story resolve  1.000000\n",
      "543                           code couple reasons cache  1.000000\n",
      "96                      alphabetical order line clubbed  1.000000\n",
      "2174                         move code private function  1.000000\n",
      "3491           think renaming switchcontent descriptive  1.000000\n",
      "146                   anchor element destroyed download  1.000000\n",
      "1992                       made single import statement  1.000000\n",
      "3750                            used show empty tooltip  1.000000\n",
      "3866                      wanted say better readability  1.000000\n",
      "247                       attach test coverage snippets  1.000000\n",
      "3729                        use relative imports module  1.000000\n",
      "3714                              use mode enum clarity  1.000000\n",
      "3688              use destructuring simplify assignment  1.000000\n",
      "3676                           use camel casing strings  1.000000\n",
      "1962                       log error proper description  1.000000\n",
      "354                            button inside first view  1.000000\n",
      "3641              update component whitelist handlebars  1.000000\n",
      "394                             cant use isempty method  1.000000\n"
     ]
    }
   ],
   "source": [
    "# Getting top ranking fourgrams from set of all fourgrams\n",
    "sums = X2.sum(axis = 0) \n",
    "data1 = [] \n",
    "for col, term in enumerate(features): \n",
    "    data1.append( (term, sums[0,col] )) \n",
    "ranking = pd.DataFrame(data1, columns = ['Comment2','rank']) \n",
    "words2 = (ranking.sort_values('rank', ascending = False)) \n",
    "print (\"\\n\\nWords head : \\n\", words2.head(50)) "
   ]
  },
  {
   "cell_type": "code",
   "execution_count": 73,
   "metadata": {},
   "outputs": [
    {
     "data": {
      "image/png": "[encoded data removed]",
      "text/plain": [
       "<Figure size 432x288 with 1 Axes>"
      ]
     },
     "metadata": {
      "needs_background": "light"
     },
     "output_type": "display_data"
    }
   ],
   "source": [
    "#plotting the top ten fourgrams\n",
    "quadgrams =  words2.head(10)\n",
    "top_ten = quadgrams.plot.bar(x='Comment2', y='rank', rot=90, width=0.3)"
   ]
  },
  {
   "cell_type": "markdown",
   "metadata": {},
   "source": [
    "## Writting the results into a CSV file"
   ]
  },
  {
   "cell_type": "code",
   "execution_count": 75,
   "metadata": {},
   "outputs": [],
   "source": [
    "#writting the most occuring trigrams into a CSV file\n",
    "words1.to_csv(\"C:\\datasets\\top_trigrams.csv\",encoding='utf-8')"
   ]
  },
  {
   "cell_type": "code",
   "execution_count": 76,
   "metadata": {},
   "outputs": [],
   "source": [
    "#writting the most occuring quadgrams into a CSV file\n",
    "words2.to_csv(\"C:\\datasets\\top_fourgrams.csv\",encoding='utf-8')"
   ]
  },
  {
   "cell_type": "code",
   "execution_count": null,
   "metadata": {},
   "outputs": [],
   "source": []
  }
 ],
 "metadata": {
  "kernelspec": {
   "display_name": "Python 3",
   "language": "python",
   "name": "python3"
  },
  "language_info": {
   "codemirror_mode": {
    "name": "ipython",
    "version": 3
   },
   "file_extension": ".py",
   "mimetype": "text/x-python",
   "name": "python",
   "nbconvert_exporter": "python",
   "pygments_lexer": "ipython3",
   "version": "3.7.4"
  }
 },
 "nbformat": 4,
 "nbformat_minor": 2
}
